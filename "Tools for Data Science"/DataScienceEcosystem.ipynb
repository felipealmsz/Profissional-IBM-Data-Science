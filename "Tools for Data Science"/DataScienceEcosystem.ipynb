{
 "cells": [
  {
   "cell_type": "markdown",
   "metadata": {},
   "source": [
    "<center>\n",
    "    <img src=\"https://cf-courses-data.s3.us.cloud-object-storage.appdomain.cloud/IBMDeveloperSkillsNetwork-DS0105EN-SkillsNetwork/labs/Module2/images/SN_web_lightmode.png\" width=\"300\" alt=\"cognitiveclass.ai logo\">\n",
    "</center>\n"
   ]
  },
  {
   "cell_type": "markdown",
   "metadata": {},
   "source": [
    "#### Add your code below following the instructions given in the course\n"
   ]
  },
  {
   "cell_type": "markdown",
   "metadata": {},
   "source": [
    "                       Data Science Tools and Ecosystem"
   ]
  },
  {
   "cell_type": "markdown",
   "metadata": {
    "tags": []
   },
   "source": [
    "   In this notebook, we will explore fundamental and practical concepts of data science,ranging from languages and libraries to arithmetic expressions and\n",
    "unit conversions.\n"
   ]
  },
  {
   "cell_type": "markdown",
   "metadata": {},
   "source": [
    "  Some of the popular languages that Data Scientists use are:\n",
    "   - Python\n",
    "   - R\n",
    "   - Julia"
   ]
  },
  {
   "cell_type": "markdown",
   "metadata": {},
   "source": [
    "                          Data Science Libraries\n",
    "   - NumPy\n",
    "   - Pandas\n",
    "   - Matplotlib\n",
    "   - Seaborn\n",
    "   - Scikit-learn"
   ]
  },
  {
   "cell_type": "markdown",
   "metadata": {},
   "source": [
    "                   Data Science Tools Table\n",
    "| Tool             | Description                             |\n",
    "|------------------|-----------------------------------------|\n",
    "| Jupyter Notebook | Interactive coding environment          |\n",
    "| VS Code          | Code editor with extensive support      |\n",
    "| TensorFlow       | Library for machine learning            |\n",
    "| Keras            | High-level interface for TensorFlow     |\n"
   ]
  },
  {
   "cell_type": "markdown",
   "metadata": {},
   "source": [
    "                Arithmetic Expressions Examples\n",
    "Examples of arithmetic expressions include:\n",
    "- Addition: 2 + 3\n",
    "- Subtraction: 5 - 1\n",
    "- Multiplication: 4 * 6\n",
    "- Division: 8 / 2\n"
   ]
  },
  {
   "cell_type": "code",
   "execution_count": 4,
   "metadata": {
    "tags": []
   },
   "outputs": [
    {
     "name": "stdout",
     "output_type": "stream",
     "text": [
      "Multiplication result: 35\n",
      "Addition result: 13\n"
     ]
    }
   ],
   "source": [
    "           #Multiplication and Addition\n",
    "#Code cell\n",
    "multiplication_result = 5 * 7\n",
    "addition_result = 10 + 3\n",
    "print(\"Multiplication result:\", multiplication_result)\n",
    "print(\"Addition result:\", addition_result)"
   ]
  },
  {
   "cell_type": "code",
   "execution_count": null,
   "metadata": {},
   "outputs": [],
   "source": [
    "             # Convert minutes in hour              \n",
    "# Code cell\n",
    "minutes = 120\n",
    "hours = minutes / 60\n",
    "print(\"120 minutes is equal to\", hours, \"hours.\")\n"
   ]
  },
  {
   "cell_type": "markdown",
   "metadata": {},
   "source": [
    "                Objectives\n",
    "\n",
    "- Understand fundamental concepts of data science.\n",
    "- Practice using popular languages and libraries.\n",
    "- Develop skills in arithmetic expressions and unit conversions."
   ]
  },
  {
   "cell_type": "markdown",
   "metadata": {},
   "source": [
    "Luís Felipe  "
   ]
  },
  {
   "cell_type": "markdown",
   "metadata": {},
   "source": [
    "https://github.com/felipealmsz/Profissional-IBM-Data-Science/tree/main/%22Tools%20for%20Data%20Science%22"
   ]
  },
  {
   "cell_type": "code",
   "execution_count": null,
   "metadata": {},
   "outputs": [],
   "source": []
  }
 ],
 "metadata": {
  "kernelspec": {
   "display_name": "Python",
   "language": "python",
   "name": "conda-env-python-py"
  },
  "language_info": {
   "codemirror_mode": {
    "name": "ipython",
    "version": 3
   },
   "file_extension": ".py",
   "mimetype": "text/x-python",
   "name": "python",
   "nbconvert_exporter": "python",
   "pygments_lexer": "ipython3",
   "version": "3.7.12"
  }
 },
 "nbformat": 4,
 "nbformat_minor": 4
}
